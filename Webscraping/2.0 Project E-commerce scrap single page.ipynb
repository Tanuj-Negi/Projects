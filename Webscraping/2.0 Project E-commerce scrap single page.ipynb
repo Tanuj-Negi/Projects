{
 "cells": [
  {
   "cell_type": "code",
   "execution_count": 1,
   "id": "046c670e-a318-4d95-831c-36a1c7990c35",
   "metadata": {},
   "outputs": [],
   "source": [
    "import pandas as pd\n",
    "import requests\n",
    "from bs4 import BeautifulSoup\n",
    "\n",
    "url = \"https://books.toscrape.com/\"\n",
    "response = requests.get(url)\n",
    "soup = BeautifulSoup(response.text, 'lxml')"
   ]
  },
  {
   "cell_type": "code",
   "execution_count": 114,
   "id": "9c61934f-bf28-4f2b-970f-a5f22092ed6b",
   "metadata": {},
   "outputs": [],
   "source": [
    "title=[]\n",
    "price=[]\n",
    "stock=[]\n",
    "rating=[]\n",
    "\n",
    "\n",
    "for i in soup.find_all('article', class_= 'product_pod'):\n",
    "    title.append(i.find_all('h3')[0].a['title'])\n",
    "    price.append(i.find_all('p',class_='price_color')[0].text.split('Â')[1])\n",
    "    stock.append(i.find_all('p', class_='instock availability')[0].text.strip())\n",
    "    rating.append(i.find_all('p', class_='star-rating')[0]['class'][1])"
   ]
  },
  {
   "cell_type": "code",
   "execution_count": 115,
   "id": "fb3285ae-fdca-4e4f-bfac-d43a6ecbc526",
   "metadata": {},
   "outputs": [],
   "source": [
    "d = {'title': title, 'price': price, 'stock': stock, 'rating': rating}\n",
    "df = pd.DataFrame(d)"
   ]
  },
  {
   "cell_type": "code",
   "execution_count": 116,
   "id": "4854526e-32c1-47e9-92f8-b1f580dd7329",
   "metadata": {},
   "outputs": [
    {
     "name": "stdout",
     "output_type": "stream",
     "text": [
      "                                                title   price     stock rating\n",
      "0                                A Light in the Attic  £51.77  In stock  Three\n",
      "1                                  Tipping the Velvet  £53.74  In stock    One\n",
      "2                                          Soumission  £50.10  In stock    One\n",
      "3                                       Sharp Objects  £47.82  In stock   Four\n",
      "4               Sapiens: A Brief History of Humankind  £54.23  In stock   Five\n",
      "5                                     The Requiem Red  £22.65  In stock    One\n",
      "6   The Dirty Little Secrets of Getting Your Dream...  £33.34  In stock   Four\n",
      "7   The Coming Woman: A Novel Based on the Life of...  £17.93  In stock  Three\n",
      "8   The Boys in the Boat: Nine Americans and Their...  £22.60  In stock   Four\n",
      "9                                     The Black Maria  £52.15  In stock    One\n",
      "10     Starving Hearts (Triangular Trade Trilogy, #1)  £13.99  In stock    Two\n",
      "11                              Shakespeare's Sonnets  £20.66  In stock   Four\n",
      "12                                        Set Me Free  £17.46  In stock   Five\n",
      "13  Scott Pilgrim's Precious Little Life (Scott Pi...  £52.29  In stock   Five\n",
      "14                          Rip it Up and Start Again  £35.02  In stock   Five\n",
      "15  Our Band Could Be Your Life: Scenes from the A...  £57.25  In stock  Three\n",
      "16                                               Olio  £23.88  In stock    One\n",
      "17  Mesaerion: The Best Science Fiction Stories 18...  £37.59  In stock    One\n",
      "18                       Libertarianism for Beginners  £51.33  In stock    Two\n",
      "19                            It's Only the Himalayas  £45.17  In stock    Two\n"
     ]
    }
   ],
   "source": [
    "print(df)"
   ]
  },
  {
   "cell_type": "code",
   "execution_count": null,
   "id": "6f9da774-2a70-42b1-ac70-de4d53bed271",
   "metadata": {},
   "outputs": [],
   "source": []
  }
 ],
 "metadata": {
  "kernelspec": {
   "display_name": "Python 3 (ipykernel)",
   "language": "python",
   "name": "python3"
  },
  "language_info": {
   "codemirror_mode": {
    "name": "ipython",
    "version": 3
   },
   "file_extension": ".py",
   "mimetype": "text/x-python",
   "name": "python",
   "nbconvert_exporter": "python",
   "pygments_lexer": "ipython3",
   "version": "3.13.3"
  }
 },
 "nbformat": 4,
 "nbformat_minor": 5
}
