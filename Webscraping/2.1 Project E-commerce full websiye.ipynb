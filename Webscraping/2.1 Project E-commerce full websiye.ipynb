{
 "cells": [
  {
   "cell_type": "code",
   "execution_count": 28,
   "id": "df386cc6-6a9b-4d25-ada4-a7b426e7c4d0",
   "metadata": {},
   "outputs": [],
   "source": [
    "import pandas as pd\n",
    "import requests\n",
    "from bs4 import BeautifulSoup\n",
    "import openpyxl"
   ]
  },
  {
   "cell_type": "code",
   "execution_count": 39,
   "id": "16eb6c9f-ffe5-4cd3-bada-b84a3468d1c4",
   "metadata": {},
   "outputs": [],
   "source": [
    "books = []\n",
    "for i in range(1,51):\n",
    "    url = f\"https://books.toscrape.com/catalogue/page-{i}.html\"\n",
    "    response = requests.get(url)\n",
    "    soup = BeautifulSoup(response.text, 'lxml')\n",
    "    \n",
    "    title=[]\n",
    "    price=[]\n",
    "    stock=[]\n",
    "    rating=[]\n",
    "    for pages in soup.find_all('article', class_= 'product_pod'):\n",
    "        title.append(pages.find_all('h3')[0].a['title'])\n",
    "        price.append(pages.find_all('p',class_='price_color')[0].text.split('Â')[1])\n",
    "        stock.append(pages.find_all('p', class_='instock availability')[0].text.strip())\n",
    "        rating.append(pages.find_all('p', class_='star-rating')[0]['class'][1])\n",
    "    \n",
    "    d = {'title': title, 'price': price, 'stock': stock, 'rating': rating}\n",
    "    df = pd.DataFrame(d)\n",
    "    books.append(df)\n",
    "\n"
   ]
  },
  {
   "cell_type": "code",
   "execution_count": 55,
   "id": "24ac621b-ebe6-46b4-a96a-ccdecfbc5db9",
   "metadata": {},
   "outputs": [
    {
     "name": "stdout",
     "output_type": "stream",
     "text": [
      "                                                title   price     stock rating\n",
      "0                                A Light in the Attic  £51.77  In stock  Three\n",
      "1                                  Tipping the Velvet  £53.74  In stock    One\n",
      "2                                          Soumission  £50.10  In stock    One\n",
      "3                                       Sharp Objects  £47.82  In stock   Four\n",
      "4               Sapiens: A Brief History of Humankind  £54.23  In stock   Five\n",
      "..                                                ...     ...       ...    ...\n",
      "15  Alice in Wonderland (Alice's Adventures in Won...  £55.53  In stock    One\n",
      "16   Ajin: Demi-Human, Volume 1 (Ajin: Demi-Human #1)  £57.06  In stock   Four\n",
      "17  A Spy's Devotion (The Regency Spies of London #1)  £16.97  In stock   Five\n",
      "18                1st to Die (Women's Murder Club #1)  £53.98  In stock    One\n",
      "19                 1,000 Places to See Before You Die  £26.08  In stock   Five\n",
      "\n",
      "[1000 rows x 4 columns]\n"
     ]
    }
   ],
   "source": [
    "final_book = pd.concat(books)                               #Concat pages into one dataframe\n",
    "print(final_book)"
   ]
  },
  {
   "cell_type": "code",
   "execution_count": 57,
   "id": "bd278855-2616-4c7d-9927-d23b9bb56585",
   "metadata": {},
   "outputs": [],
   "source": [
    "final_book.to_excel('books.xlsx', index=False)"
   ]
  },
  {
   "cell_type": "code",
   "execution_count": null,
   "id": "34cefb1d-a8fb-4d34-b8f1-9610c8f97b37",
   "metadata": {},
   "outputs": [],
   "source": []
  }
 ],
 "metadata": {
  "kernelspec": {
   "display_name": "Python 3 (ipykernel)",
   "language": "python",
   "name": "python3"
  },
  "language_info": {
   "codemirror_mode": {
    "name": "ipython",
    "version": 3
   },
   "file_extension": ".py",
   "mimetype": "text/x-python",
   "name": "python",
   "nbconvert_exporter": "python",
   "pygments_lexer": "ipython3",
   "version": "3.13.3"
  }
 },
 "nbformat": 4,
 "nbformat_minor": 5
}
